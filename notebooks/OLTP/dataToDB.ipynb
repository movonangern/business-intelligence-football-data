{
 "cells": [
  {
   "cell_type": "markdown",
   "metadata": {},
   "source": [
    "### Imports"
   ]
  },
  {
   "cell_type": "code",
   "execution_count": 37,
   "metadata": {},
   "outputs": [],
   "source": [
    "from sqlalchemy import create_engine, ForeignKey, Column, String, Integer, CHAR\n",
    "from sqlalchemy.orm import sessionmaker, declarative_base"
   ]
  },
  {
   "cell_type": "markdown",
   "metadata": {},
   "source": [
    "### Code for Defining a Base Class with SQLAlchemy"
   ]
  },
  {
   "cell_type": "code",
   "execution_count": 38,
   "metadata": {},
   "outputs": [],
   "source": [
    "Base = declarative_base()"
   ]
  },
  {
   "cell_type": "markdown",
   "metadata": {},
   "source": [
    "### Create a new classes that will map to the table in the database"
   ]
  },
  {
   "cell_type": "code",
   "execution_count": 39,
   "metadata": {},
   "outputs": [],
   "source": [
    "class Person(Base):\n",
    "    __tablename__ = \"people\"\n",
    "    \n",
    "    id = Column(\"id\", Integer, primary_key=True)\n",
    "    name = Column(\"name\", String)\n",
    "    age = Column(\"age\", Integer)\n",
    "    \n",
    "    def __init___(self, id, name, age):\n",
    "        self.id = id\n",
    "        self.name = name\n",
    "        self.age = age\n",
    "        \n",
    "    def __repr__(self):\n",
    "        return f\"({self.id}, {self.name}, {self.age})\"\n",
    "    \n",
    "    \n",
    "    \n",
    "class Thing(Base):\n",
    "    __tablename__ = \"things\"\n",
    "    \n",
    "    tid = Column(\"tid\", Integer, primary_key=True)\n",
    "    description = Column(\"description\", String)\n",
    "    owner_id = Column(\"owner_id\", Integer, ForeignKey(\"people.id\"))\n",
    "    \n",
    "    \n",
    "    def __init__(self, tid, description, owner_id):\n",
    "        self.tid = tid\n",
    "        self.description = description\n",
    "        self.owner_id = owner_id\n",
    "        \n",
    "    def __repr__(self):\n",
    "        return f\"({self.tid}, {self.description}, {self.owner_id})\""
   ]
  },
  {
   "cell_type": "code",
   "execution_count": 43,
   "metadata": {},
   "outputs": [
    {
     "name": "stdout",
     "output_type": "stream",
     "text": [
      "2024-03-05 11:06:25,219 INFO sqlalchemy.engine.Engine BEGIN (implicit)\n",
      "2024-03-05 11:06:25,221 INFO sqlalchemy.engine.Engine PRAGMA main.table_info(\"people\")\n",
      "2024-03-05 11:06:25,221 INFO sqlalchemy.engine.Engine [raw sql] ()\n",
      "2024-03-05 11:06:25,223 INFO sqlalchemy.engine.Engine PRAGMA main.table_info(\"things\")\n",
      "2024-03-05 11:06:25,224 INFO sqlalchemy.engine.Engine [raw sql] ()\n",
      "2024-03-05 11:06:25,225 INFO sqlalchemy.engine.Engine \n",
      "DROP TABLE things\n",
      "2024-03-05 11:06:25,225 INFO sqlalchemy.engine.Engine [no key 0.00035s] ()\n",
      "2024-03-05 11:06:25,227 INFO sqlalchemy.engine.Engine \n",
      "DROP TABLE people\n",
      "2024-03-05 11:06:25,227 INFO sqlalchemy.engine.Engine [no key 0.00043s] ()\n",
      "2024-03-05 11:06:25,229 INFO sqlalchemy.engine.Engine COMMIT\n",
      "2024-03-05 11:06:25,230 INFO sqlalchemy.engine.Engine BEGIN (implicit)\n",
      "2024-03-05 11:06:25,231 INFO sqlalchemy.engine.Engine PRAGMA main.table_info(\"people\")\n",
      "2024-03-05 11:06:25,232 INFO sqlalchemy.engine.Engine [raw sql] ()\n",
      "2024-03-05 11:06:25,232 INFO sqlalchemy.engine.Engine PRAGMA temp.table_info(\"people\")\n",
      "2024-03-05 11:06:25,232 INFO sqlalchemy.engine.Engine [raw sql] ()\n",
      "2024-03-05 11:06:25,233 INFO sqlalchemy.engine.Engine PRAGMA main.table_info(\"things\")\n",
      "2024-03-05 11:06:25,233 INFO sqlalchemy.engine.Engine [raw sql] ()\n",
      "2024-03-05 11:06:25,234 INFO sqlalchemy.engine.Engine PRAGMA temp.table_info(\"things\")\n",
      "2024-03-05 11:06:25,235 INFO sqlalchemy.engine.Engine [raw sql] ()\n",
      "2024-03-05 11:06:25,237 INFO sqlalchemy.engine.Engine \n",
      "CREATE TABLE people (\n",
      "\tid INTEGER NOT NULL, \n",
      "\tname VARCHAR, \n",
      "\tage INTEGER, \n",
      "\tPRIMARY KEY (id)\n",
      ")\n",
      "\n",
      "\n",
      "2024-03-05 11:06:25,237 INFO sqlalchemy.engine.Engine [no key 0.00040s] ()\n",
      "2024-03-05 11:06:25,239 INFO sqlalchemy.engine.Engine \n",
      "CREATE TABLE things (\n",
      "\ttid INTEGER NOT NULL, \n",
      "\tdescription VARCHAR, \n",
      "\towner_id INTEGER, \n",
      "\tPRIMARY KEY (tid), \n",
      "\tFOREIGN KEY(owner_id) REFERENCES people (id)\n",
      ")\n",
      "\n",
      "\n",
      "2024-03-05 11:06:25,239 INFO sqlalchemy.engine.Engine [no key 0.00030s] ()\n",
      "2024-03-05 11:06:25,241 INFO sqlalchemy.engine.Engine COMMIT\n"
     ]
    }
   ],
   "source": [
    "# Erstellen Sie den Engine\n",
    "engine = create_engine(\"sqlite:///football.db\", echo=True)\n",
    "\n",
    "# Drop alle Tabellen (Vorsicht: Dies löscht alle Daten!)\n",
    "Base.metadata.drop_all(bind=engine)\n",
    "\n",
    "# Erstelle alle Tabellen erneut\n",
    "Base.metadata.create_all(bind=engine)"
   ]
  },
  {
   "cell_type": "code",
   "execution_count": 41,
   "metadata": {},
   "outputs": [],
   "source": [
    "Session = sessionmaker(bind=engine)\n",
    "seesion = Session()"
   ]
  },
  {
   "cell_type": "code",
   "execution_count": null,
   "metadata": {},
   "outputs": [],
   "source": []
  }
 ],
 "metadata": {
  "kernelspec": {
   "display_name": ".venv",
   "language": "python",
   "name": "python3"
  },
  "language_info": {
   "codemirror_mode": {
    "name": "ipython",
    "version": 3
   },
   "file_extension": ".py",
   "mimetype": "text/x-python",
   "name": "python",
   "nbconvert_exporter": "python",
   "pygments_lexer": "ipython3",
   "version": "3.11.4"
  }
 },
 "nbformat": 4,
 "nbformat_minor": 2
}
